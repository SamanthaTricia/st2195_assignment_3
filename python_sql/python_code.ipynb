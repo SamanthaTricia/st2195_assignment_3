{
 "cells": [
  {
   "cell_type": "code",
   "execution_count": 1,
   "id": "e237fa09",
   "metadata": {},
   "outputs": [],
   "source": [
    "import os\n",
    "import sqlite3\n",
    "import pandas as pd\n",
    "import csv"
   ]
  },
  {
   "cell_type": "code",
   "execution_count": 2,
   "id": "7aaa1c6c",
   "metadata": {},
   "outputs": [],
   "source": [
    "try:\n",
    "    os.remove('airline_v2.db')\n",
    "except OSError:\n",
    "    pass\n"
   ]
  },
  {
   "cell_type": "code",
   "execution_count": 3,
   "id": "59476330",
   "metadata": {},
   "outputs": [],
   "source": [
    "conn = sqlite3.connect('airline_v2.db')"
   ]
  },
  {
   "cell_type": "code",
   "execution_count": 4,
   "id": "a4e82022",
   "metadata": {},
   "outputs": [],
   "source": [
    "airports = pd.read_csv(\"../../SIM/ST2195/dataverse_files/airports.csv\")\n",
    "carriers = pd.read_csv(\"../../SIM/ST2195/dataverse_files/carriers.csv\")\n",
    "planes = pd.read_csv(\"../../SIM/ST2195/dataverse_files/plane-data.csv\")\n",
    "\n",
    "airports.to_sql('airports', con = conn, index = False)\n",
    "carriers.to_sql('carriers', con = conn, index = False)\n",
    "planes.to_sql('planes', con = conn, index = False)\n"
   ]
  },
  {
   "cell_type": "code",
   "execution_count": 5,
   "id": "d114ef17",
   "metadata": {},
   "outputs": [],
   "source": [
    "c = conn.cursor()"
   ]
  },
  {
   "cell_type": "code",
   "execution_count": 6,
   "id": "cd19c390",
   "metadata": {},
   "outputs": [],
   "source": [
    "c.execute('''\n",
    "CREATE TABLE ontime(\n",
    "  Year int,\n",
    "  Month int,\n",
    "  DayofMonth int,\n",
    "  DayofWeek int,\n",
    "  DepTime int,\n",
    "  CRSDepTime int,\n",
    "  ArrTime int,\n",
    "  CRSArrTime int,\n",
    "  UniqueCarrier varchar(5),\n",
    "  FlightNum int,\n",
    "  TailNum varchar(8),\n",
    "  ActualElapsedTime int,\n",
    "  CRSElapsedTime int,\n",
    "  AirTime int,\n",
    "  ArrDelay int,\n",
    "  DepDelay int,\n",
    "  Origin varchar(3),\n",
    "  Dest varchar(3),\n",
    "  Distance int,\n",
    "  TaxiIn int,\n",
    "  TaxiOut int,\n",
    "  Cancelled int,\n",
    "  CancellationCode varchar(1),\n",
    "  Diverted varchar(1),\n",
    "  CarrierDelay int,\n",
    "  WeatherDelay int,\n",
    "  NASDelay int,\n",
    "  SecurityDelay int,\n",
    "  LateAircraftDelay int\n",
    ")\n",
    "''')\n",
    "conn.commit()"
   ]
  },
  {
   "cell_type": "code",
   "execution_count": 7,
   "id": "2bc27d46",
   "metadata": {},
   "outputs": [
    {
     "data": {
      "text/plain": [
       "[('airports',), ('carriers',), ('planes',), ('ontime',)]"
      ]
     },
     "execution_count": 7,
     "metadata": {},
     "output_type": "execute_result"
    }
   ],
   "source": [
    "c.execute('''\n",
    "SELECT name\n",
    "FROM sqlite_master\n",
    "WHERE type='table'\n",
    "''').fetchall()"
   ]
  },
  {
   "cell_type": "code",
   "execution_count": 8,
   "id": "eccce41c",
   "metadata": {},
   "outputs": [
    {
     "name": "stdout",
     "output_type": "stream",
     "text": [
      "Processing:  2000\n",
      "Processing:  2001\n",
      "Processing:  2002\n",
      "Processing:  2003\n"
     ]
    },
    {
     "name": "stderr",
     "output_type": "stream",
     "text": [
      "/opt/anaconda3/lib/python3.8/site-packages/IPython/core/interactiveshell.py:3165: DtypeWarning: Columns (22) have mixed types.Specify dtype option on import or set low_memory=False.\n",
      "  has_raised = await self.run_ast_nodes(code_ast.body, cell_name,\n"
     ]
    },
    {
     "name": "stdout",
     "output_type": "stream",
     "text": [
      "Processing:  2004\n",
      "Processing:  2005\n"
     ]
    }
   ],
   "source": [
    "for year in range(2000, 2006):\n",
    "    filename = \"../../SIM/ST2195/dataverse_files/\"+str(year)+\".csv.bz2\"\n",
    "    print('Processing: ', year)\n",
    "    ontime = pd.read_csv(filename, dtype={'Cancelled': int},encoding='latin-1')\n",
    "    ontime.to_sql('ontime', con = conn, if_exists= 'append', index = False)\n",
    "    \n",
    "conn.commit()"
   ]
  },
  {
   "cell_type": "markdown",
   "id": "09fd951f",
   "metadata": {},
   "source": [
    "# Query 1 - Plane model with highest departure delay"
   ]
  },
  {
   "cell_type": "code",
   "execution_count": 22,
   "id": "6d5a6c50",
   "metadata": {},
   "outputs": [
    {
     "name": "stdout",
     "output_type": "stream",
     "text": [
      "737-2Y5 has the lowest associated average departure delay at 7.022\n"
     ]
    }
   ],
   "source": [
    "c.execute('''\n",
    "SELECT model AS model, AVG(ontime.DepDelay) AS avg_delay\n",
    "FROM planes JOIN ontime ON planes.tailnum=ontime.Tailnum\n",
    "WHERE ontime.Cancelled = 0 AND ontime.Diverted = 0 AND ontime.DepDelay > 0\n",
    "GROUP BY model\n",
    "ORDER BY avg_delay\n",
    "''')\n",
    "\n",
    "x = c.fetchall()\n",
    "print(x[0][0], \"has the lowest associated average departure delay at\", round(x[0][1],3))\n",
    "#print(c.fetchone()[0], \"has the lowest associated average departure delay\")"
   ]
  },
  {
   "cell_type": "code",
   "execution_count": 23,
   "id": "e9dc87f9",
   "metadata": {},
   "outputs": [
    {
     "data": {
      "text/plain": [
       "[('737-2Y5', 7.022026431718062),\n",
       " ('737-282', 8.433566433566433),\n",
       " ('737-230', 10.458646616541353),\n",
       " ('737-282C', 11.765765765765765),\n",
       " ('767-324', 15.788051209103841)]"
      ]
     },
     "execution_count": 23,
     "metadata": {},
     "output_type": "execute_result"
    }
   ],
   "source": [
    "x[:5]"
   ]
  },
  {
   "cell_type": "code",
   "execution_count": 24,
   "id": "29dffc16",
   "metadata": {},
   "outputs": [
    {
     "data": {
      "text/html": [
       "<div>\n",
       "<style scoped>\n",
       "    .dataframe tbody tr th:only-of-type {\n",
       "        vertical-align: middle;\n",
       "    }\n",
       "\n",
       "    .dataframe tbody tr th {\n",
       "        vertical-align: top;\n",
       "    }\n",
       "\n",
       "    .dataframe thead th {\n",
       "        text-align: right;\n",
       "    }\n",
       "</style>\n",
       "<table border=\"1\" class=\"dataframe\">\n",
       "  <thead>\n",
       "    <tr style=\"text-align: right;\">\n",
       "      <th></th>\n",
       "      <th>0</th>\n",
       "      <th>1</th>\n",
       "    </tr>\n",
       "  </thead>\n",
       "  <tbody>\n",
       "    <tr>\n",
       "      <th>0</th>\n",
       "      <td>737-2Y5</td>\n",
       "      <td>7.022026</td>\n",
       "    </tr>\n",
       "    <tr>\n",
       "      <th>1</th>\n",
       "      <td>737-282</td>\n",
       "      <td>8.433566</td>\n",
       "    </tr>\n",
       "    <tr>\n",
       "      <th>2</th>\n",
       "      <td>737-230</td>\n",
       "      <td>10.458647</td>\n",
       "    </tr>\n",
       "    <tr>\n",
       "      <th>3</th>\n",
       "      <td>737-282C</td>\n",
       "      <td>11.765766</td>\n",
       "    </tr>\n",
       "    <tr>\n",
       "      <th>4</th>\n",
       "      <td>767-324</td>\n",
       "      <td>15.788051</td>\n",
       "    </tr>\n",
       "    <tr>\n",
       "      <th>...</th>\n",
       "      <td>...</td>\n",
       "      <td>...</td>\n",
       "    </tr>\n",
       "    <tr>\n",
       "      <th>141</th>\n",
       "      <td>ATR 72-212</td>\n",
       "      <td>38.267365</td>\n",
       "    </tr>\n",
       "    <tr>\n",
       "      <th>142</th>\n",
       "      <td>ATR-72-212</td>\n",
       "      <td>38.699195</td>\n",
       "    </tr>\n",
       "    <tr>\n",
       "      <th>143</th>\n",
       "      <td>717-200</td>\n",
       "      <td>38.737105</td>\n",
       "    </tr>\n",
       "    <tr>\n",
       "      <th>144</th>\n",
       "      <td>ERJ 190-100 IGW</td>\n",
       "      <td>41.723958</td>\n",
       "    </tr>\n",
       "    <tr>\n",
       "      <th>145</th>\n",
       "      <td>A330-223</td>\n",
       "      <td>55.800000</td>\n",
       "    </tr>\n",
       "  </tbody>\n",
       "</table>\n",
       "<p>146 rows × 2 columns</p>\n",
       "</div>"
      ],
      "text/plain": [
       "                   0          1\n",
       "0            737-2Y5   7.022026\n",
       "1            737-282   8.433566\n",
       "2            737-230  10.458647\n",
       "3           737-282C  11.765766\n",
       "4            767-324  15.788051\n",
       "..               ...        ...\n",
       "141       ATR 72-212  38.267365\n",
       "142       ATR-72-212  38.699195\n",
       "143          717-200  38.737105\n",
       "144  ERJ 190-100 IGW  41.723958\n",
       "145         A330-223  55.800000\n",
       "\n",
       "[146 rows x 2 columns]"
      ]
     },
     "execution_count": 24,
     "metadata": {},
     "output_type": "execute_result"
    }
   ],
   "source": [
    "df = pd.DataFrame(x)\n",
    "df"
   ]
  },
  {
   "cell_type": "code",
   "execution_count": 25,
   "id": "2edbcf3a",
   "metadata": {},
   "outputs": [],
   "source": [
    "df.to_csv(\"q1.csv\", sep=',',index=False)"
   ]
  },
  {
   "cell_type": "markdown",
   "id": "1918dfb8",
   "metadata": {},
   "source": [
    "# Query 2 - City with highest number of inbound fligts"
   ]
  },
  {
   "cell_type": "code",
   "execution_count": 18,
   "id": "95f93021",
   "metadata": {},
   "outputs": [
    {
     "name": "stdout",
     "output_type": "stream",
     "text": [
      "Chicago has the highest number of inbound fligts (excluding cancelled flights) at 2388365\n"
     ]
    }
   ],
   "source": [
    "c.execute('''\n",
    "SELECT airports.city AS city, COUNT() AS total\n",
    "FROM airports JOIN ontime ON ontime.dest=airports.iata\n",
    "WHERE ontime.Cancelled = 0 \n",
    "GROUP BY airports.city\n",
    "ORDER BY total DESC\n",
    "''')\n",
    "\n",
    "s = c.fetchall()\n",
    "print(s[0][0], \"has the highest number of inbound fligts (excluding cancelled flights) at\", s[0][1])\n",
    "#print(c.fetchone()[0], \"has the highest number of inbound fligts (excluding cancelled flights)\")"
   ]
  },
  {
   "cell_type": "code",
   "execution_count": 19,
   "id": "2463dae9",
   "metadata": {},
   "outputs": [
    {
     "data": {
      "text/plain": [
       "[('Chicago', 2388365),\n",
       " ('Atlanta', 1912370),\n",
       " ('Dallas-Fort Worth', 1781833),\n",
       " ('Houston', 1304407),\n",
       " ('Los Angeles', 1279514)]"
      ]
     },
     "execution_count": 19,
     "metadata": {},
     "output_type": "execute_result"
    }
   ],
   "source": [
    "s[:5]"
   ]
  },
  {
   "cell_type": "code",
   "execution_count": 20,
   "id": "34a7a373",
   "metadata": {},
   "outputs": [
    {
     "data": {
      "text/html": [
       "<div>\n",
       "<style scoped>\n",
       "    .dataframe tbody tr th:only-of-type {\n",
       "        vertical-align: middle;\n",
       "    }\n",
       "\n",
       "    .dataframe tbody tr th {\n",
       "        vertical-align: top;\n",
       "    }\n",
       "\n",
       "    .dataframe thead th {\n",
       "        text-align: right;\n",
       "    }\n",
       "</style>\n",
       "<table border=\"1\" class=\"dataframe\">\n",
       "  <thead>\n",
       "    <tr style=\"text-align: right;\">\n",
       "      <th></th>\n",
       "      <th>0</th>\n",
       "      <th>1</th>\n",
       "    </tr>\n",
       "  </thead>\n",
       "  <tbody>\n",
       "    <tr>\n",
       "      <th>0</th>\n",
       "      <td>Chicago</td>\n",
       "      <td>2388365</td>\n",
       "    </tr>\n",
       "    <tr>\n",
       "      <th>1</th>\n",
       "      <td>Atlanta</td>\n",
       "      <td>1912370</td>\n",
       "    </tr>\n",
       "    <tr>\n",
       "      <th>2</th>\n",
       "      <td>Dallas-Fort Worth</td>\n",
       "      <td>1781833</td>\n",
       "    </tr>\n",
       "    <tr>\n",
       "      <th>3</th>\n",
       "      <td>Houston</td>\n",
       "      <td>1304407</td>\n",
       "    </tr>\n",
       "    <tr>\n",
       "      <th>4</th>\n",
       "      <td>Los Angeles</td>\n",
       "      <td>1279514</td>\n",
       "    </tr>\n",
       "    <tr>\n",
       "      <th>...</th>\n",
       "      <td>...</td>\n",
       "      <td>...</td>\n",
       "    </tr>\n",
       "    <tr>\n",
       "      <th>282</th>\n",
       "      <td>Provo</td>\n",
       "      <td>3</td>\n",
       "    </tr>\n",
       "    <tr>\n",
       "      <th>283</th>\n",
       "      <td>Cheyenne</td>\n",
       "      <td>2</td>\n",
       "    </tr>\n",
       "    <tr>\n",
       "      <th>284</th>\n",
       "      <td>Scottsbluff</td>\n",
       "      <td>1</td>\n",
       "    </tr>\n",
       "    <tr>\n",
       "      <th>285</th>\n",
       "      <td>Roswell</td>\n",
       "      <td>1</td>\n",
       "    </tr>\n",
       "    <tr>\n",
       "      <th>286</th>\n",
       "      <td>Laramie</td>\n",
       "      <td>1</td>\n",
       "    </tr>\n",
       "  </tbody>\n",
       "</table>\n",
       "<p>287 rows × 2 columns</p>\n",
       "</div>"
      ],
      "text/plain": [
       "                     0        1\n",
       "0              Chicago  2388365\n",
       "1              Atlanta  1912370\n",
       "2    Dallas-Fort Worth  1781833\n",
       "3              Houston  1304407\n",
       "4          Los Angeles  1279514\n",
       "..                 ...      ...\n",
       "282              Provo        3\n",
       "283           Cheyenne        2\n",
       "284        Scottsbluff        1\n",
       "285            Roswell        1\n",
       "286            Laramie        1\n",
       "\n",
       "[287 rows x 2 columns]"
      ]
     },
     "execution_count": 20,
     "metadata": {},
     "output_type": "execute_result"
    }
   ],
   "source": [
    "df2 = pd.DataFrame(s)\n",
    "df2"
   ]
  },
  {
   "cell_type": "code",
   "execution_count": 21,
   "id": "df8f3d50",
   "metadata": {},
   "outputs": [],
   "source": [
    "df2.to_csv(\"q2.csv\", sep=',',index=False)"
   ]
  },
  {
   "cell_type": "markdown",
   "id": "04aff6cb",
   "metadata": {},
   "source": [
    "# Query 3 - Carrier with the highest number of cancelled flights"
   ]
  },
  {
   "cell_type": "code",
   "execution_count": 26,
   "id": "5bd9ca30",
   "metadata": {},
   "outputs": [
    {
     "name": "stdout",
     "output_type": "stream",
     "text": [
      "Delta Air Lines Inc. has the highest number of cancelled flights at 107851\n"
     ]
    }
   ],
   "source": [
    "c.execute('''\n",
    "SELECT carriers.Description AS carrier, COUNT() AS total\n",
    "FROM carriers JOIN ontime ON ontime.UniqueCarrier=carriers.code\n",
    "WHERE ontime.Cancelled = 1 \n",
    "GROUP BY carriers.Description\n",
    "ORDER BY total DESC\n",
    "''')\n",
    "\n",
    "y = c.fetchall()\n",
    "print(y[0][0], \"has the highest number of cancelled flights at\", y[0][1])\n",
    "#print(c.fetchone()[0], \"has the highest number of cancelled flights\")"
   ]
  },
  {
   "cell_type": "code",
   "execution_count": 27,
   "id": "da93a3a4",
   "metadata": {},
   "outputs": [
    {
     "data": {
      "text/plain": [
       "[('Delta Air Lines Inc.', 107851),\n",
       " ('American Airlines Inc.', 105762),\n",
       " ('United Air Lines Inc.', 102066),\n",
       " ('American Eagle Airlines Inc.', 96365),\n",
       " ('US Airways Inc. (Merged with America West 9/05. Reporting for both starting 10/07.)',\n",
       "  85866)]"
      ]
     },
     "execution_count": 27,
     "metadata": {},
     "output_type": "execute_result"
    }
   ],
   "source": [
    "y[:5]"
   ]
  },
  {
   "cell_type": "code",
   "execution_count": 28,
   "id": "9a9b2e14",
   "metadata": {},
   "outputs": [
    {
     "data": {
      "text/html": [
       "<div>\n",
       "<style scoped>\n",
       "    .dataframe tbody tr th:only-of-type {\n",
       "        vertical-align: middle;\n",
       "    }\n",
       "\n",
       "    .dataframe tbody tr th {\n",
       "        vertical-align: top;\n",
       "    }\n",
       "\n",
       "    .dataframe thead th {\n",
       "        text-align: right;\n",
       "    }\n",
       "</style>\n",
       "<table border=\"1\" class=\"dataframe\">\n",
       "  <thead>\n",
       "    <tr style=\"text-align: right;\">\n",
       "      <th></th>\n",
       "      <th>0</th>\n",
       "      <th>1</th>\n",
       "    </tr>\n",
       "  </thead>\n",
       "  <tbody>\n",
       "    <tr>\n",
       "      <th>0</th>\n",
       "      <td>Delta Air Lines Inc.</td>\n",
       "      <td>107851</td>\n",
       "    </tr>\n",
       "    <tr>\n",
       "      <th>1</th>\n",
       "      <td>American Airlines Inc.</td>\n",
       "      <td>105762</td>\n",
       "    </tr>\n",
       "    <tr>\n",
       "      <th>2</th>\n",
       "      <td>United Air Lines Inc.</td>\n",
       "      <td>102066</td>\n",
       "    </tr>\n",
       "    <tr>\n",
       "      <th>3</th>\n",
       "      <td>American Eagle Airlines Inc.</td>\n",
       "      <td>96365</td>\n",
       "    </tr>\n",
       "    <tr>\n",
       "      <th>4</th>\n",
       "      <td>US Airways Inc. (Merged with America West 9/05...</td>\n",
       "      <td>85866</td>\n",
       "    </tr>\n",
       "    <tr>\n",
       "      <th>5</th>\n",
       "      <td>Southwest Airlines Co.</td>\n",
       "      <td>65549</td>\n",
       "    </tr>\n",
       "    <tr>\n",
       "      <th>6</th>\n",
       "      <td>Northwest Airlines Inc.</td>\n",
       "      <td>59210</td>\n",
       "    </tr>\n",
       "    <tr>\n",
       "      <th>7</th>\n",
       "      <td>Atlantic Southeast Airlines</td>\n",
       "      <td>27947</td>\n",
       "    </tr>\n",
       "    <tr>\n",
       "      <th>8</th>\n",
       "      <td>Alaska Airlines Inc.</td>\n",
       "      <td>26667</td>\n",
       "    </tr>\n",
       "    <tr>\n",
       "      <th>9</th>\n",
       "      <td>Continental Air Lines Inc.</td>\n",
       "      <td>26565</td>\n",
       "    </tr>\n",
       "    <tr>\n",
       "      <th>10</th>\n",
       "      <td>Skywest Airlines Inc.</td>\n",
       "      <td>25924</td>\n",
       "    </tr>\n",
       "    <tr>\n",
       "      <th>11</th>\n",
       "      <td>America West Airlines Inc. (Merged with US Air...</td>\n",
       "      <td>25402</td>\n",
       "    </tr>\n",
       "    <tr>\n",
       "      <th>12</th>\n",
       "      <td>Comair Inc.</td>\n",
       "      <td>24986</td>\n",
       "    </tr>\n",
       "    <tr>\n",
       "      <th>13</th>\n",
       "      <td>Independence Air</td>\n",
       "      <td>22176</td>\n",
       "    </tr>\n",
       "    <tr>\n",
       "      <th>14</th>\n",
       "      <td>Expressjet Airlines Inc.</td>\n",
       "      <td>21483</td>\n",
       "    </tr>\n",
       "    <tr>\n",
       "      <th>15</th>\n",
       "      <td>Trans World Airways LLC</td>\n",
       "      <td>11001</td>\n",
       "    </tr>\n",
       "    <tr>\n",
       "      <th>16</th>\n",
       "      <td>AirTran Airways Corporation</td>\n",
       "      <td>6075</td>\n",
       "    </tr>\n",
       "    <tr>\n",
       "      <th>17</th>\n",
       "      <td>ATA Airlines d/b/a ATA</td>\n",
       "      <td>2080</td>\n",
       "    </tr>\n",
       "    <tr>\n",
       "      <th>18</th>\n",
       "      <td>JetBlue Airways</td>\n",
       "      <td>1707</td>\n",
       "    </tr>\n",
       "    <tr>\n",
       "      <th>19</th>\n",
       "      <td>Aloha Airlines Inc.</td>\n",
       "      <td>1662</td>\n",
       "    </tr>\n",
       "    <tr>\n",
       "      <th>20</th>\n",
       "      <td>Hawaiian Airlines Inc.</td>\n",
       "      <td>268</td>\n",
       "    </tr>\n",
       "    <tr>\n",
       "      <th>21</th>\n",
       "      <td>Frontier Airlines Inc.</td>\n",
       "      <td>175</td>\n",
       "    </tr>\n",
       "  </tbody>\n",
       "</table>\n",
       "</div>"
      ],
      "text/plain": [
       "                                                    0       1\n",
       "0                                Delta Air Lines Inc.  107851\n",
       "1                              American Airlines Inc.  105762\n",
       "2                               United Air Lines Inc.  102066\n",
       "3                        American Eagle Airlines Inc.   96365\n",
       "4   US Airways Inc. (Merged with America West 9/05...   85866\n",
       "5                              Southwest Airlines Co.   65549\n",
       "6                             Northwest Airlines Inc.   59210\n",
       "7                         Atlantic Southeast Airlines   27947\n",
       "8                                Alaska Airlines Inc.   26667\n",
       "9                          Continental Air Lines Inc.   26565\n",
       "10                              Skywest Airlines Inc.   25924\n",
       "11  America West Airlines Inc. (Merged with US Air...   25402\n",
       "12                                        Comair Inc.   24986\n",
       "13                                   Independence Air   22176\n",
       "14                           Expressjet Airlines Inc.   21483\n",
       "15                            Trans World Airways LLC   11001\n",
       "16                        AirTran Airways Corporation    6075\n",
       "17                             ATA Airlines d/b/a ATA    2080\n",
       "18                                    JetBlue Airways    1707\n",
       "19                                Aloha Airlines Inc.    1662\n",
       "20                             Hawaiian Airlines Inc.     268\n",
       "21                             Frontier Airlines Inc.     175"
      ]
     },
     "execution_count": 28,
     "metadata": {},
     "output_type": "execute_result"
    }
   ],
   "source": [
    "df3 = pd.DataFrame(y)\n",
    "df3"
   ]
  },
  {
   "cell_type": "code",
   "execution_count": 29,
   "id": "59ceee15",
   "metadata": {},
   "outputs": [],
   "source": [
    "df3.to_csv(\"q3.csv\", sep=',',index=False)"
   ]
  },
  {
   "cell_type": "markdown",
   "id": "0db62141",
   "metadata": {},
   "source": [
    "# Query 4 - Carrier with the highest ratio of cancelled flights to total flights"
   ]
  },
  {
   "cell_type": "code",
   "execution_count": null,
   "id": "814368b3",
   "metadata": {},
   "outputs": [],
   "source": [
    "c.execute('''\n",
    "SELECT \n",
    "q1.carrier as carrier, (CAST(q1.numerator AS FLOAT)/ CAST(q2.denominator AS FLOAT)) AS ratio \n",
    "FROM\n",
    "(\n",
    "  SELECT carriers.Description AS carrier, count() AS numerator\n",
    "  FROM carriers JOIN ontime on ontime.UniqueCarrier = carriers.Code\n",
    "  WHERE ontime.Cancelled = 1\n",
    "  GROUP BY carriers.Description\n",
    ") AS q1 JOIN\n",
    "(\n",
    "  SELECT carriers.Description AS carrier, count() AS denominator\n",
    "  FROM carriers JOIN ontime on ontime.UniqueCarrier = carriers.Code\n",
    "  GROUP BY carriers.Description\n",
    ") AS q2 USING(carrier)\n",
    "ORDER BY ratio DESC\n",
    "''')\n",
    "\n",
    "d = c.fetchall()\n",
    "print(d[0][0], \"has the highest number of cancelled flights, relative to their number of total flights, at\", round(d[0][1],3))\n",
    "\n",
    "#print(c.fetchone()[0], \"has the highest number of cancelled flights, relative to their number of total flights\")"
   ]
  },
  {
   "cell_type": "code",
   "execution_count": null,
   "id": "8426bd77",
   "metadata": {},
   "outputs": [],
   "source": [
    "d[:5]"
   ]
  },
  {
   "cell_type": "code",
   "execution_count": null,
   "id": "9abe1622",
   "metadata": {},
   "outputs": [],
   "source": [
    "df4 = pd.DataFrame(d)\n",
    "df4"
   ]
  },
  {
   "cell_type": "code",
   "execution_count": null,
   "id": "6268d342",
   "metadata": {},
   "outputs": [],
   "source": [
    "df4.to_csv(\"q4.csv\", sep=',',index=False)"
   ]
  }
 ],
 "metadata": {
  "kernelspec": {
   "display_name": "Python 3",
   "language": "python",
   "name": "python3"
  },
  "language_info": {
   "codemirror_mode": {
    "name": "ipython",
    "version": 3
   },
   "file_extension": ".py",
   "mimetype": "text/x-python",
   "name": "python",
   "nbconvert_exporter": "python",
   "pygments_lexer": "ipython3",
   "version": "3.8.8"
  }
 },
 "nbformat": 4,
 "nbformat_minor": 5
}
